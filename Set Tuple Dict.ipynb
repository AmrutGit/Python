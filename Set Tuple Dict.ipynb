{
 "cells": [
  {
   "cell_type": "markdown",
   "id": "ed351302",
   "metadata": {},
   "source": [
    "1. Add a list of elements to a given set\n",
    "Given:\n",
    "sampleSet = {\"Yellow\", \"Orange\", \"Black\"}\n",
    "sampleList = [\"Blue\", \"Green\", \"Red\",”Yellow”,”orange”]"
   ]
  },
  {
   "cell_type": "code",
   "execution_count": 2,
   "id": "f39202e7",
   "metadata": {},
   "outputs": [
    {
     "name": "stdout",
     "output_type": "stream",
     "text": [
      "{'Black', 'Yellow', 'Red', 'orange', 'Orange', 'Green', 'Blue'}\n"
     ]
    }
   ],
   "source": [
    "sampleSet = {\"Yellow\", \"Orange\", \"Black\"} \n",
    "sampleList = [\"Blue\", \"Green\", \"Red\",\"Yellow\",\"orange\"]\n",
    "for ele in sampleList:\n",
    "    sampleSet.add(ele)\n",
    "print(sampleSet)"
   ]
  },
  {
   "cell_type": "markdown",
   "id": "b81f9a72",
   "metadata": {},
   "source": [
    "2. display common elements from the given set\n",
    "set1 = {10, 20, 30, 40, 50}\n",
    "set2 = {30, 40, 50, 60, 70}"
   ]
  },
  {
   "cell_type": "code",
   "execution_count": 3,
   "id": "9927fef5",
   "metadata": {},
   "outputs": [
    {
     "name": "stdout",
     "output_type": "stream",
     "text": [
      "{40, 50, 30}\n"
     ]
    }
   ],
   "source": [
    "set1 = {10, 20, 30, 40, 50}\n",
    "set2 = {30, 40, 50, 60, 70}\n",
    "print(set1 & set2)"
   ]
  },
  {
   "cell_type": "markdown",
   "id": "07c95793",
   "metadata": {},
   "source": [
    "3. Generate a new set with all items from both sets by removing numbers which are in both sets.\n",
    "set1 = {10, 20, 30, 40, 50,25}\n",
    "set2 = {30, 40, 50, 60, 70,100}\n",
    "o/p : order is not important\n",
    "{70, 10, 20, 60,25,100}"
   ]
  },
  {
   "cell_type": "code",
   "execution_count": 4,
   "id": "92f4252d",
   "metadata": {},
   "outputs": [
    {
     "name": "stdout",
     "output_type": "stream",
     "text": [
      "{100, 70, 10, 20, 25, 60}\n"
     ]
    }
   ],
   "source": [
    "set1 = {10, 20, 30, 40, 50,25}\n",
    "set2 = {30, 40, 50, 60, 70,100}\n",
    "print(set1 ^ set2)"
   ]
  },
  {
   "cell_type": "markdown",
   "id": "157011cb",
   "metadata": {},
   "source": [
    "4. set of all elements in either A or B, but not both\n",
    "set1 = {10, 20, 30, 40, 50}\n",
    "set2 = {30, 40, 50, 60, 70}\n",
    "Expected output:\n",
    "{20, 70, 10, 60}"
   ]
  },
  {
   "cell_type": "code",
   "execution_count": 5,
   "id": "fe2e4ded",
   "metadata": {},
   "outputs": [
    {
     "name": "stdout",
     "output_type": "stream",
     "text": [
      "{20, 70, 10, 60}\n"
     ]
    }
   ],
   "source": [
    "set1 = {10, 20, 30, 40, 50}\n",
    "set2 = {30, 40, 50, 60, 70}\n",
    "print(set1 ^ set2)"
   ]
  },
  {
   "cell_type": "markdown",
   "id": "c830015a",
   "metadata": {},
   "source": [
    "5. Update set1 by adding items from set2, except common items\n",
    "set1 = {10, 20, 30, 40, 50}\n",
    "set2 = {30, 40, 50, 60, 70}\n",
    "Expected output:\n",
    "{70, 10, 20, 60}"
   ]
  },
  {
   "cell_type": "code",
   "execution_count": 10,
   "id": "fe14f94b",
   "metadata": {},
   "outputs": [
    {
     "name": "stdout",
     "output_type": "stream",
     "text": [
      "{20, 70, 10, 60}\n"
     ]
    }
   ],
   "source": [
    "set1 = {10, 20, 30, 40, 50}\n",
    "set2 = {30, 40, 50, 60, 70}\n",
    "set1^=set2\n",
    "print(set1)"
   ]
  },
  {
   "cell_type": "markdown",
   "id": "bb503349",
   "metadata": {},
   "source": [
    "6. Take a sentence as input from user. Every word is seperated by space. Print all unique words from the sentence."
   ]
  },
  {
   "cell_type": "code",
   "execution_count": 12,
   "id": "43146a73",
   "metadata": {},
   "outputs": [
    {
     "name": "stdout",
     "output_type": "stream",
     "text": [
      "Enter a sentence : I am very happy today. I am doing good. I will acheive my goals!\n",
      "{'happy', 'am', 'today.', 'very', 'goals!', 'will', 'doing', 'good.', 'my', 'acheive', 'I'}\n"
     ]
    }
   ],
   "source": [
    "sentence = input(\"Enter a sentence : \").split()\n",
    "sentence = set(sentence)\n",
    "print(sentence)"
   ]
  },
  {
   "cell_type": "markdown",
   "id": "897bac51",
   "metadata": {},
   "source": [
    "# Tuple"
   ]
  },
  {
   "cell_type": "markdown",
   "id": "094c1c9b",
   "metadata": {},
   "source": [
    "1. Reverse the following tuple\n",
    "aTuple = (10, 20, 30, 40, 50, 60)\n",
    "Expected output:\n",
    "(60,50, 40, 30, 20, 10)"
   ]
  },
  {
   "cell_type": "code",
   "execution_count": 15,
   "id": "1eaf914a",
   "metadata": {},
   "outputs": [
    {
     "name": "stdout",
     "output_type": "stream",
     "text": [
      "(60, 50, 40, 30, 20, 10)\n"
     ]
    }
   ],
   "source": [
    "aTuple = (10, 20, 30, 40, 50,60)\n",
    "print(aTuple[::-1])"
   ]
  },
  {
   "cell_type": "markdown",
   "id": "a82f414f",
   "metadata": {},
   "source": [
    "2. display value 20 from the following tuple\n",
    "aTuple = (\"Orange\", [10, 20, 30], (5, 15, 25))"
   ]
  },
  {
   "cell_type": "code",
   "execution_count": 16,
   "id": "810ae7e0",
   "metadata": {},
   "outputs": [
    {
     "name": "stdout",
     "output_type": "stream",
     "text": [
      "20\n"
     ]
    }
   ],
   "source": [
    "aTuple = (\"Orange\", [10, 20, 30], (5, 15, 25))\n",
    "print(aTuple[1][1])"
   ]
  },
  {
   "cell_type": "markdown",
   "id": "694f0e3a",
   "metadata": {},
   "source": [
    "3. Unpack the following tuple into 4 variables\n",
    "aTuple = (10, 20, 30, 40)"
   ]
  },
  {
   "cell_type": "code",
   "execution_count": 19,
   "id": "6a599aab",
   "metadata": {},
   "outputs": [
    {
     "name": "stdout",
     "output_type": "stream",
     "text": [
      "10 20 30 40\n"
     ]
    }
   ],
   "source": [
    "aTuple = (10, 20, 30, 40)\n",
    "a,b,c,d = aTuple\n",
    "print(a,b,c,d)"
   ]
  },
  {
   "cell_type": "markdown",
   "id": "fbb6a283",
   "metadata": {},
   "source": [
    "4. Swap the following two tuples\n",
    "tuple1 = (11, 22)\n",
    "tuple2 = (99, 88)\n",
    "Expected output:\n",
    "tuple1 = (99, 88)\n",
    "tuple2 = (11, 22)"
   ]
  },
  {
   "cell_type": "code",
   "execution_count": 20,
   "id": "74170551",
   "metadata": {},
   "outputs": [
    {
     "name": "stdout",
     "output_type": "stream",
     "text": [
      "(99, 88)\n",
      "(11, 22)\n"
     ]
    }
   ],
   "source": [
    "tuple1 = (11, 22)\n",
    "tuple2 = (99, 88)\n",
    "tuple1,tuple2 = tuple2,tuple1\n",
    "print(tuple1)\n",
    "print(tuple2)"
   ]
  },
  {
   "cell_type": "markdown",
   "id": "03ef7d7e",
   "metadata": {},
   "source": [
    "5. Copy element 44 and 55 from the following tuple into a new tuple\n",
    "tuple1 = (11, 22, 33, 44, 55, 66)\n",
    "Expected output:\n",
    "tuple2: (44, 55)"
   ]
  },
  {
   "cell_type": "code",
   "execution_count": 22,
   "id": "9d496a8b",
   "metadata": {},
   "outputs": [
    {
     "name": "stdout",
     "output_type": "stream",
     "text": [
      "(44, 55)\n"
     ]
    }
   ],
   "source": [
    "tuple1 = (11, 22, 33, 44, 55, 66)\n",
    "tuple2 = tuple1[3:5]\n",
    "print(tuple2)"
   ]
  },
  {
   "cell_type": "markdown",
   "id": "6d11ba3c",
   "metadata": {},
   "source": [
    "6. Modify the first item (22) of a list inside a following tuple to 200\n",
    "tuple1 = (11, [22, 33], 44, 55)\n",
    "Expected output:\n",
    "tuple1: (11, [200, 33], 44, 55)"
   ]
  },
  {
   "cell_type": "code",
   "execution_count": 23,
   "id": "3eb820c7",
   "metadata": {},
   "outputs": [
    {
     "name": "stdout",
     "output_type": "stream",
     "text": [
      "(11, [200, 33], 44, 55)\n"
     ]
    }
   ],
   "source": [
    "tuple1 = (11, [22, 33], 44, 55)\n",
    "tuple1[1][0] = 200\n",
    "print(tuple1)"
   ]
  },
  {
   "cell_type": "markdown",
   "id": "22761b22",
   "metadata": {},
   "source": [
    "7. Take two integer values in a & b. Swap their values using tuple, using temparary variable and without tuple and without temparary variable.\n",
    "Ex. a=10 b=23\n",
    "After swapping a=23 b=10"
   ]
  },
  {
   "cell_type": "code",
   "execution_count": 26,
   "id": "4db23bba",
   "metadata": {},
   "outputs": [
    {
     "name": "stdout",
     "output_type": "stream",
     "text": [
      "[(23, 10)]\n"
     ]
    }
   ],
   "source": [
    "# With Tuple\n",
    "a = 10 \n",
    "b = 23\n",
    "tuple1 = [(a,b)]\n",
    "tuple2 = [(ele[1], ele[0]) for ele in tuple1] \n",
    "print(tuple2)"
   ]
  },
  {
   "cell_type": "code",
   "execution_count": 24,
   "id": "e268f8bc",
   "metadata": {},
   "outputs": [
    {
     "name": "stdout",
     "output_type": "stream",
     "text": [
      "23 10\n"
     ]
    }
   ],
   "source": [
    "# Temporary variable\n",
    "a = 10 \n",
    "b = 23\n",
    "temp = 0\n",
    "temp = a\n",
    "a = b\n",
    "b = temp\n",
    "print(a , b)"
   ]
  },
  {
   "cell_type": "code",
   "execution_count": 27,
   "id": "b38e867e",
   "metadata": {},
   "outputs": [
    {
     "name": "stdout",
     "output_type": "stream",
     "text": [
      "23 10\n"
     ]
    }
   ],
   "source": [
    "# Without temporary variable\n",
    "a = 10 \n",
    "b = 23\n",
    "a = a + b\n",
    "b = a - b\n",
    "a = a - b\n",
    "print (a , b)"
   ]
  },
  {
   "cell_type": "markdown",
   "id": "c6d4dd3f",
   "metadata": {},
   "source": [
    "1. In cryptography, a Caesar cipher is a very simple encryption techniques in which each letter in the plain text is replaced by a letter some fixed number of positions down the alphabet. For example, with a shift of 3, A would be replaced by D, B would become E, and so on. The method is named after Julius Caesar, who used it to communicate with his generals. ROT-13 (\"rotate by 13 places\") is a widely used\n",
    "example of a Caesar cipher where the shift is 13. In Python, the key for ROT-13 may be represented by means of the following dictionary\n",
    "{'a':'n', 'b':'o', 'c':'p', 'd':'q', 'e':'r', 'f':'s', 'g':'t', 'h':'u', 'i':'v', 'j':'w', 'k':'x', 'l':'y', 'm':'z', 'n':'a', 'o':'b', 'p':'c',\n",
    "'q':'d', 'r':'e', 's':'f', 't':'g', 'u':'h', 'v':'i', 'w':'j', 'x':'k', 'y':'l', 'z':'m', 'A':'N', 'B':'O', 'C':'P', 'D':'Q', 'E':'R', 'F':'S', 'G':'T', 'H':'U', 'I':'V', 'J':'W', 'K':'X', 'L':'Y', 'M':'Z', 'N':'A', 'O':'B', 'P':'C', 'Q':'D', 'R':'E', 'S':'F', 'T':'G', 'U':'H', 'V':'I', 'W':'J', 'X':'K', 'Y':'L', 'Z':'M'}\n",
    "Your task in this exercise is to implement an encoder/decoder of ROT-13. Once you're done, you will be able to read the following secret message:\n",
    "Pnrfne pvcure? V zhpu cersre Pnrfne fnynq!\n",
    "Note that since English has 26 characters, your ROT-13 program will be able to both encode and decode texts written in English."
   ]
  },
  {
   "cell_type": "code",
   "execution_count": 48,
   "id": "7717ce07",
   "metadata": {},
   "outputs": [
    {
     "name": "stdout",
     "output_type": "stream",
     "text": [
      "Enter a message : Pnrfne pvcure? V zhpu cersre Pnrfne fnynq!\n",
      "Caesar cipher? I much prefer Caesar salad! \n"
     ]
    }
   ],
   "source": [
    "key = {'a':'n', 'b':'o', 'c':'p', 'd':'q', 'e':'r', 'f':'s', 'g':'t', 'h':'u', 'i':'v', 'j':'w',\n",
    "       'k':'x', 'l':'y', 'm':'z', 'n':'a', 'o':'b', 'p':'c', 'q':'d', 'r':'e', 's':'f', 't':'g', \n",
    "       'u':'h', 'v':'i', 'w':'j', 'x':'k', 'y':'l', 'z':'m', 'A':'N', 'B':'O', 'C':'P', 'D':'Q', \n",
    "       'E':'R', 'F':'S', 'G':'T', 'H':'U', 'I':'V', 'J':'W', 'K':'X', 'L':'Y', 'M':'Z', 'N':'A', \n",
    "       'O':'B', 'P':'C', 'Q':'D', 'R':'E', 'S':'F', 'T':'G', 'U':'H', 'V':'I', 'W':'J', 'X':'K', \n",
    "       'Y':'L', 'Z':'M'}\n",
    "messege = input(\"Enter a message : \").split(\" \")\n",
    "decode = \"\"\n",
    "for i in messege:\n",
    "    for j in i:\n",
    "        if j.isalpha():\n",
    "            decode += key[j]\n",
    "        else:\n",
    "            decode += j\n",
    "    decode += \" \"\n",
    "print(decode)"
   ]
  },
  {
   "cell_type": "code",
   "execution_count": null,
   "id": "0665b74a",
   "metadata": {},
   "outputs": [],
   "source": [
    "messege = Pnrfne pvcure? V zhpu cersre Pnrfne fnynq!\n",
    "decode = \"\"\n",
    "for i in messege:\n",
    "    for j in i:\n",
    "        if j.isalpha():\n",
    "            decode += key[j]\n",
    "        else:\n",
    "            decode += j\n",
    "    decode += \" \"\n",
    "print(decode)"
   ]
  },
  {
   "cell_type": "code",
   "execution_count": 18,
   "id": "d3947e36",
   "metadata": {},
   "outputs": [
    {
     "name": "stdout",
     "output_type": "stream",
     "text": [
      "Enter the number of shift : 13\n",
      "C a e s a r   c i p h e r ?   I   m u c h   p r e f e r   C a e s a r   s a l a d ! \n"
     ]
    }
   ],
   "source": [
    "def generate_key_dict(n):\n",
    "    \n",
    "    n = int(n)\n",
    "    #To get values for lowercase letters\n",
    "    key_dict = {chr(key): chr(key + n) for key in range(97,(123 - n))}\n",
    "    key_dict.update({chr(key): chr(key - 26 + n) for key in range((123 - n), 123)})\n",
    "    #To get values for uppercase letters \n",
    "    key_dict.update({chr(key): chr(key + n) for key in range(65, (91 - n))})\n",
    "    key_dict.update({chr(key): chr(key - 26 + n) for key in range((91 - n), 91)})\n",
    "    return key_dict\n",
    "\n",
    "#-------------------------------------------Main---------------------------------------------------#\n",
    "\n",
    "messege = input(\"Enter a coded message : \")\n",
    "# Test message - \"Pnrfne pvcure? V zhpu cersre Pnrfne fnynq!\"\n",
    "decode = \"\"\n",
    "n = int(input(\"Enter the number of shift / rotation : \"))\n",
    "\n",
    "key_cipher = generate_key_dict(n) #generate dictionary for decoding\n",
    "\n",
    "#Loop for decoding message\n",
    "for i in messege:\n",
    "    for j in i:\n",
    "        if j == \" \":\n",
    "            decode += \" \" \n",
    "        elif j.isalpha():\n",
    "            decode += key_cipher[j]\n",
    "        else:\n",
    "            decode += j\n",
    "    decode += \" \"\n",
    "\n",
    "print(decode)\n"
   ]
  },
  {
   "cell_type": "code",
   "execution_count": null,
   "id": "163b1c8e",
   "metadata": {},
   "outputs": [],
   "source": []
  }
 ],
 "metadata": {
  "kernelspec": {
   "display_name": "Python 3 (ipykernel)",
   "language": "python",
   "name": "python3"
  },
  "language_info": {
   "codemirror_mode": {
    "name": "ipython",
    "version": 3
   },
   "file_extension": ".py",
   "mimetype": "text/x-python",
   "name": "python",
   "nbconvert_exporter": "python",
   "pygments_lexer": "ipython3",
   "version": "3.11.4"
  }
 },
 "nbformat": 4,
 "nbformat_minor": 5
}
