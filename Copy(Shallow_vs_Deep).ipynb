{
 "cells": [
  {
   "cell_type": "code",
   "execution_count": 43,
   "id": "442086c5",
   "metadata": {},
   "outputs": [
    {
     "name": "stdout",
     "output_type": "stream",
     "text": [
      "List: [[1, 2], 3, 5, 6, 7]\n",
      "Copy by assignment: [[1, 2], 3, 5, 6, 7]\n",
      "Shallow Copy: [[1, 2], 3, 5, 6, 7]\n",
      "Deep Copy: [[1, 2], 3, 5, 6, 7]\n",
      "2989704089344 2989704089344 2989690085824 2989704104960\n",
      "----------------------------------------------------After Update--------------------------------------------\n",
      "List: [[60, 2], 3, 5, 6, 7]\n",
      "Copy by assignment: [[60, 2], 3, 5, 6, 7]\n",
      "Shallow Copy: [[60, 2], 3, 5, 6, 7]\n",
      "Deep Copy: [[1, 2], 3, 5, 6, 7]\n",
      "2989704089344 2989704089344 2989690085824 2989704104960\n"
     ]
    }
   ],
   "source": [
    "import copy\n",
    "list1 = [[1,2],3,5,6,7]\n",
    "ass_list = list1\n",
    "s_list = list1.copy()\n",
    "d_list = copy.deepcopy(list1)\n",
    "\n",
    "print(\"List:\", list1)\n",
    "print(\"Copy by assignment:\", ass_list)\n",
    "print(\"Shallow Copy:\", ass_list)\n",
    "print(\"Deep Copy:\", d_list)\n",
    "print(id(list1),id(ass_list), id(s_list[0]), id(d_list[0]))\n",
    "\n",
    "#list1.append(20)\n",
    "list1[0][0] = 40\n",
    "s_list[0][0] = 50\n",
    "ass_list[0][0] = 60\n",
    "print(\"----------------------------------------------------After Update--------------------------------------------\")\n",
    "print(\"List:\", list1)\n",
    "print(\"Copy by assignment:\", ass_list)\n",
    "print(\"Shallow Copy:\", ass_list)\n",
    "print(\"Deep Copy:\", d_list)\n",
    "print(id(list1),id(ass_list), id(s_list[0]), id(d_list[0]))"
   ]
  }
 ],
 "metadata": {
  "kernelspec": {
   "display_name": "Python 3 (ipykernel)",
   "language": "python",
   "name": "python3"
  },
  "language_info": {
   "codemirror_mode": {
    "name": "ipython",
    "version": 3
   },
   "file_extension": ".py",
   "mimetype": "text/x-python",
   "name": "python",
   "nbconvert_exporter": "python",
   "pygments_lexer": "ipython3",
   "version": "3.11.4"
  }
 },
 "nbformat": 4,
 "nbformat_minor": 5
}
