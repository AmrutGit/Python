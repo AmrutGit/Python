{
 "cells": [
  {
   "cell_type": "markdown",
   "id": "e2c06047",
   "metadata": {},
   "source": [
    "# Logic Building"
   ]
  },
  {
   "cell_type": "markdown",
   "id": "b101acb2",
   "metadata": {},
   "source": [
    "Simple Calculator Program"
   ]
  },
  {
   "cell_type": "code",
   "execution_count": 5,
   "id": "8eda121b",
   "metadata": {},
   "outputs": [
    {
     "name": "stdout",
     "output_type": "stream",
     "text": [
      "Welcome to menu!\n",
      "Press 1 to ADD \n",
      "Press 2 to SUBTRACT \n",
      "Press 3 to MULTIPLY \n",
      "Press 4 to DIVIDE \n",
      "\n",
      "Enter your choice : 1\n",
      "Enter number of numbers you want to add : 1\n",
      "Total is :  1\n"
     ]
    }
   ],
   "source": [
    "print(\"Welcome to menu!\")\n",
    "print(\"Press 1 to ADD \\nPress 2 to SUBTRACT \\nPress 3 to MULTIPLY \\nPress 4 to DIVIDE \\n\")\n",
    "choice = int(input(\"Enter your choice : \"))\n",
    "match choice:\n",
    "    case 1:\n",
    "        n = int(input(\"Enter number of numbers you want to add : \"))\n",
    "        count=0\n",
    "        l=[1]\n",
    "        for i in range(1,n):\n",
    "            l[i]=int(input(\"Enter number {} :\".format(i)))\n",
    "        for ele in l:\n",
    "            count += ele\n",
    "        print(\"Total is : \", count)\n",
    "        \n",
    "        \n",
    "    \n",
    "\n"
   ]
  },
  {
   "cell_type": "markdown",
   "id": "268a2e65",
   "metadata": {},
   "source": [
    " WAP to print the odd numbers from 1 to 99. Prints one number per line."
   ]
  },
  {
   "cell_type": "code",
   "execution_count": 7,
   "id": "10d4bf15",
   "metadata": {},
   "outputs": [
    {
     "name": "stdout",
     "output_type": "stream",
     "text": [
      "1\n",
      "3\n",
      "5\n",
      "7\n",
      "9\n",
      "11\n",
      "13\n",
      "15\n",
      "17\n",
      "19\n",
      "21\n",
      "23\n",
      "25\n",
      "27\n",
      "29\n",
      "31\n",
      "33\n",
      "35\n",
      "37\n",
      "39\n",
      "41\n",
      "43\n",
      "45\n",
      "47\n",
      "49\n",
      "51\n",
      "53\n",
      "55\n",
      "57\n",
      "59\n",
      "61\n",
      "63\n",
      "65\n",
      "67\n",
      "69\n",
      "71\n",
      "73\n",
      "75\n",
      "77\n",
      "79\n",
      "81\n",
      "83\n",
      "85\n",
      "87\n",
      "89\n",
      "91\n",
      "93\n",
      "95\n",
      "97\n",
      "99\n"
     ]
    }
   ],
   "source": [
    "for i in range(1,100,2):\n",
    "    print(i)\n",
    "    "
   ]
  },
  {
   "cell_type": "markdown",
   "id": "bbd2cf3d",
   "metadata": {},
   "source": [
    "WAP  to accept a number and check the number is even or not. Prints 1 if the number is even or 0 if the number is odd."
   ]
  },
  {
   "cell_type": "code",
   "execution_count": 3,
   "id": "6fe8ae49",
   "metadata": {},
   "outputs": [
    {
     "name": "stdout",
     "output_type": "stream",
     "text": [
      "Enter a number: as\n",
      "Please enter a valid input !\n"
     ]
    }
   ],
   "source": [
    "n = input(\"Enter a number: \")\n",
    "if n.isdigit():\n",
    "    if int(n) % 2 == 0:\n",
    "        print('1')\n",
    "    else:\n",
    "        print('0')\n",
    "else:\n",
    "    print(\"Please enter a valid input !\")"
   ]
  },
  {
   "cell_type": "markdown",
   "id": "88955fff",
   "metadata": {},
   "source": [
    "WAP to print numbers between 1 to 100 which are divisible by 3, 5 and by both\n",
    "( total 3 list of numbers to be printed)"
   ]
  },
  {
   "cell_type": "code",
   "execution_count": 5,
   "id": "7d3a9602",
   "metadata": {},
   "outputs": [
    {
     "name": "stdout",
     "output_type": "stream",
     "text": [
      "[3, 6, 9, 12, 15, 18, 21, 24, 27, 30, 33, 36, 39, 42, 45, 48, 51, 54, 57, 60, 63, 66, 69, 72, 75, 78, 81, 84, 87, 90, 93, 96, 99]\n",
      "[5, 10, 15, 20, 25, 30, 35, 40, 45, 50, 55, 60, 65, 70, 75, 80, 85, 90, 95, 100]\n",
      "[15, 30, 45, 60, 75, 90]\n"
     ]
    }
   ],
   "source": [
    "l3=[ele for ele in range(3,101,3)]\n",
    "l5=[ele for ele in range(5,101,5)]\n",
    "l3_5=[ele for ele in range(15,101,15)]\n",
    "print(\"Numbers divisible by 3 are : \",l3)\n",
    "print(\"Numbers divisible by 5 are : \",l5)\n",
    "print(\"Numbers divisible by bith 3 and 5 are : \",l3_5)"
   ]
  },
  {
   "cell_type": "markdown",
   "id": "8d562a61",
   "metadata": {},
   "source": [
    "WAP that accepts three integers from the user and return true if two or more of them (integers ) have the same rightmost digit. The integers are non-negative"
   ]
  },
  {
   "cell_type": "code",
   "execution_count": 16,
   "id": "d9038249",
   "metadata": {},
   "outputs": [
    {
     "name": "stdout",
     "output_type": "stream",
     "text": [
      "Enter 3 numbers, seperate by _ : 12 12 36 asc\n",
      "Same digits at one's place found !\n"
     ]
    }
   ],
   "source": [
    "def return_l_digit(l):\n",
    "    count = 0\n",
    "    for i in range(len(l)):\n",
    "        for j in range(i+1,len(l)):\n",
    "            if (int(l[i]) % 10) == (int(l[j]) % 10):\n",
    "                return True\n",
    "                break\n",
    "\n",
    "\n",
    "ls = input(\"Enter 3 numbers, seperate by _ : \").split()\n",
    "count = 0\n",
    "for ele in ls:\n",
    "    if ele.isdigit():\n",
    "        if int(ele) < 0:\n",
    "            print(\"Please enter positive number : \")\n",
    "        else:\n",
    "            if return_l_digit(ls):\n",
    "                print(\"Same digits at one's place found !\")\n",
    "            break\n",
    "    else:\n",
    "        print(\"Please enter a valid input !\")\n",
    "        break\n",
    "            \n",
    "        "
   ]
  },
  {
   "cell_type": "markdown",
   "id": "2d5a61c5",
   "metadata": {},
   "source": [
    "WAP to convert input number of seconds to HH:MM:SS."
   ]
  },
  {
   "cell_type": "code",
   "execution_count": 48,
   "id": "d6970e5a",
   "metadata": {},
   "outputs": [
    {
     "name": "stdout",
     "output_type": "stream",
     "text": [
      "Enter number of seconds : 9501\n",
      "02 : 38 : 21\n"
     ]
    }
   ],
   "source": [
    "sec = int(input(\"Enter number of seconds : \"))\n",
    "mins = 0\n",
    "hrs = 0\n",
    "if sec > 60 :\n",
    "    mins = sec / 60\n",
    "    mins = int(mins)\n",
    "    sec = sec % 60\n",
    "if mins > 60:\n",
    "    hrs = mins/60\n",
    "    mins = mins % 60\n",
    "    hrs = int(hrs)\n",
    "print(f\"{hrs:02}\",':',f\"{mins:02}\",':',f\"{sec:02}\")\n"
   ]
  },
  {
   "cell_type": "markdown",
   "id": "601665cd",
   "metadata": {},
   "source": [
    "WAP to print all leap years between 2000 to 2100. Apply all conditions of checking leap year ( (divisible by 4 and not divisible by 100) OR (divisible by 400))"
   ]
  },
  {
   "cell_type": "code",
   "execution_count": 51,
   "id": "ba678d23",
   "metadata": {},
   "outputs": [
    {
     "name": "stdout",
     "output_type": "stream",
     "text": [
      "2000\n",
      "2004\n",
      "2008\n",
      "2012\n",
      "2016\n",
      "2020\n",
      "2024\n",
      "2028\n",
      "2032\n",
      "2036\n",
      "2040\n",
      "2044\n",
      "2048\n",
      "2052\n",
      "2056\n",
      "2060\n",
      "2064\n",
      "2068\n",
      "2072\n",
      "2076\n",
      "2080\n",
      "2084\n",
      "2088\n",
      "2092\n",
      "2096\n"
     ]
    }
   ],
   "source": [
    "for i in range(2000,2101):\n",
    "    if ((i % 4 == 0) and (i % 100 != 0)) or (i % 400 == 0):\n",
    "        print(i)"
   ]
  },
  {
   "cell_type": "markdown",
   "id": "e5df2104",
   "metadata": {},
   "source": [
    "WAP to print calender for a month. Take how many days are there in month and starting day of the month as input\n",
    "    Ex. input no of days : 30  starting day of month : Thursday\n",
    "    Ouput :: Day wise Calender  ( just like June 2022 month)"
   ]
  },
  {
   "cell_type": "code",
   "execution_count": 124,
   "id": "fe81db2b",
   "metadata": {},
   "outputs": [
    {
     "name": "stdout",
     "output_type": "stream",
     "text": [
      "Enter number of days : 18\n",
      "Enter first day of the month : f\n",
      "{'Sun': [1, 8, 15], 'Mon': [2, 9, 16], 'Tue': [3, 10, 17], 'Wed': [4, 11, 18], 'Thur': [5, 12], 'Fri': [6, 13], 'Sat': [7, 14]}\n"
     ]
    }
   ],
   "source": [
    "def match_days(d):\n",
    "    l_days = ['Sun', 'Mon', 'Tue', 'Wed', 'Thur', 'Fri', 'Sat']\n",
    "    d_month = dict()\n",
    "    for i in range(0, d):\n",
    "        if i<=6:\n",
    "            j=i\n",
    "            d_month[l_days[j]] = [i+1]\n",
    "        if i>=7:\n",
    "            if (i%7==0):\n",
    "                j=0\n",
    "                d_month[l_days[j]].append(i+1)\n",
    "                j+=1\n",
    "            else: \n",
    "                d_month[l_days[j]].append(i+1)\n",
    "                j+=1\n",
    "    print(d_month)\n",
    "\n",
    "\n",
    "days = int(input(\"Enter number of days : \"))\n",
    "s_day = input(\"Enter first day of the month : \")\n",
    "match_days(days)"
   ]
  },
  {
   "cell_type": "code",
   "execution_count": null,
   "id": "6544ecf9",
   "metadata": {},
   "outputs": [],
   "source": []
  }
 ],
 "metadata": {
  "kernelspec": {
   "display_name": "Python 3 (ipykernel)",
   "language": "python",
   "name": "python3"
  },
  "language_info": {
   "codemirror_mode": {
    "name": "ipython",
    "version": 3
   },
   "file_extension": ".py",
   "mimetype": "text/x-python",
   "name": "python",
   "nbconvert_exporter": "python",
   "pygments_lexer": "ipython3",
   "version": "3.11.4"
  }
 },
 "nbformat": 4,
 "nbformat_minor": 5
}
