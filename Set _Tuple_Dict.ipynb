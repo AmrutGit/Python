{
 "cells": [
  {
   "cell_type": "markdown",
   "metadata": {
    "id": "6H8WplKJRclK"
   },
   "source": [
    "# Set"
   ]
  },
  {
   "cell_type": "markdown",
   "metadata": {
    "id": "JrsH71o8RclP"
   },
   "source": [
    "1. Add a list of elements to a given set\n",
    "Given:\n",
    "sampleSet = {\"Yellow\", \"Orange\", \"Black\"}\n",
    "sampleList = [\"Blue\", \"Green\", \"Red\",”Yellow”,”orange”]"
   ]
  },
  {
   "cell_type": "code",
   "execution_count": null,
   "metadata": {
    "id": "5KQYVI3-RclR",
    "outputId": "7a68fc6c-0147-43f5-85fe-aa426d98fc14"
   },
   "outputs": [
    {
     "name": "stdout",
     "output_type": "stream",
     "text": [
      "{'Orange', 'Red', 'Blue', 'orange', 'Yellow', 'Green', 'Black'}\n"
     ]
    }
   ],
   "source": [
    "sampleSet = {\"Yellow\", \"Orange\", \"Black\"}\n",
    "sampleList = [\"Blue\", \"Green\", \"Red\",\"Yellow\",\"orange\"]\n",
    "\n",
    "for e in sampleList:\n",
    "    sampleSet.add(e)\n",
    "print(sampleSet)\n"
   ]
  },
  {
   "cell_type": "markdown",
   "metadata": {
    "id": "X5AkSBh8RclY"
   },
   "source": [
    "2. display common elements from the given set\n",
    "set1 = {10, 20, 30, 40, 50}\n",
    "set2 = {30, 40, 50, 60, 70}"
   ]
  },
  {
   "cell_type": "code",
   "execution_count": null,
   "metadata": {
    "id": "S3xgzRexRclZ",
    "outputId": "5e98e129-1927-4bd1-a104-5f34912dc626"
   },
   "outputs": [
    {
     "name": "stdout",
     "output_type": "stream",
     "text": [
      "{40, 50, 30}\n"
     ]
    }
   ],
   "source": [
    "set1 = {10, 20, 30, 40, 50}\n",
    "set2 = {30, 40, 50, 60, 70}\n",
    "set1.intersection_update(set2)\n",
    "print(set1)"
   ]
  },
  {
   "cell_type": "markdown",
   "metadata": {
    "id": "X6_dg7rKRclb"
   },
   "source": [
    "3. Generate a new set with all items from both sets by removing numbers which are in both sets.\n",
    "set1 = {10, 20, 30, 40, 50,25}\n",
    "set2 = {30, 40, 50, 60, 70,100}\n",
    "o/p : order is not important\n",
    "{70, 10, 20, 60,25,100}\n"
   ]
  },
  {
   "cell_type": "code",
   "execution_count": null,
   "metadata": {
    "id": "rCuy_iMfRclb",
    "outputId": "cb5e915a-4ea2-4070-cc48-2964eed8804b"
   },
   "outputs": [
    {
     "data": {
      "text/plain": [
       "{10, 20, 25, 60, 70, 100}"
      ]
     },
     "execution_count": 4,
     "metadata": {},
     "output_type": "execute_result"
    }
   ],
   "source": [
    "set1 = {10, 20, 30, 40, 50,25}\n",
    "set2 = {30, 40, 50, 60, 70,100}\n",
    "set1 ^ set2"
   ]
  },
  {
   "cell_type": "markdown",
   "metadata": {
    "id": "Qtx7cYoXRclc"
   },
   "source": [
    "4. set of all elements in either A or B, but not both\n",
    "set1 = {10, 20, 30, 40, 50}\n",
    "set2 = {30, 40, 50, 60, 70}\n",
    "Expected output:\n",
    "{20, 70, 10, 60}\n"
   ]
  },
  {
   "cell_type": "code",
   "execution_count": null,
   "metadata": {
    "id": "GepjYS5FRcld",
    "outputId": "2472b8de-d6d9-4bf0-a4fd-e2c764ecbe5e"
   },
   "outputs": [
    {
     "name": "stdout",
     "output_type": "stream",
     "text": [
      "{70, 10, 20, 60}\n"
     ]
    }
   ],
   "source": [
    "set1 = {10, 20, 30, 40, 50}\n",
    "set2 = {30, 40, 50, 60, 70}\n",
    "set1 ^=set2\n",
    "print(set1)"
   ]
  },
  {
   "cell_type": "markdown",
   "metadata": {
    "id": "-tbLTU30Rcle"
   },
   "source": [
    "5. Update set1 by adding items from set2, except common items\n",
    "set1 = {10, 20, 30, 40, 50}\n",
    "set2 = {30, 40, 50, 60, 70}\n",
    "Expected output:\n",
    "{70, 10, 20, 60}\n"
   ]
  },
  {
   "cell_type": "code",
   "execution_count": null,
   "metadata": {
    "id": "3k3XylHhRclf",
    "outputId": "c82a2e5d-7a2d-43b5-a336-3a6e2cdb6166"
   },
   "outputs": [
    {
     "name": "stdout",
     "output_type": "stream",
     "text": [
      "{70, 10, 20, 60}\n"
     ]
    }
   ],
   "source": [
    "set1 = {10, 20, 30, 40, 50}\n",
    "set2 = {30, 40, 50, 60, 70}\n",
    "set1 ^=set2\n",
    "print(set1)"
   ]
  },
  {
   "cell_type": "markdown",
   "metadata": {
    "id": "SvhvOPaHRclg"
   },
   "source": [
    "6. Take a sentence as input from user. Every word is seperated by space. Print all unique words from the sentence.\n"
   ]
  },
  {
   "cell_type": "code",
   "execution_count": null,
   "metadata": {
    "id": "SY6v4cctRclh",
    "outputId": "187309d6-78bc-43d3-d3e4-9640d2e2fc64"
   },
   "outputs": [
    {
     "name": "stdout",
     "output_type": "stream",
     "text": [
      "Enter the sentence: my my my kalpesh patil\n",
      "{'patil', 'my', 'kalpesh'}\n"
     ]
    }
   ],
   "source": [
    "w = input(\"Enter the sentence: \")\n",
    "# unique = set(w)\n",
    "# print(unique)\n",
    "\n",
    "# print(w)\n",
    "words_list = w.split()\n",
    "\n",
    "unique_words = set(words_list)\n",
    "print(unique_words)\n"
   ]
  },
  {
   "cell_type": "markdown",
   "metadata": {
    "id": "4YHy5R3hRclh"
   },
   "source": [
    "# tuple"
   ]
  },
  {
   "cell_type": "markdown",
   "metadata": {
    "id": "X-st4k1URcli"
   },
   "source": [
    "1. Reverse the following tuple\n",
    "aTuple = (10, 20, 30, 40, 50,60)\n",
    "Expected output:\n",
    "(60,50, 40, 30, 20, 10)\n"
   ]
  },
  {
   "cell_type": "code",
   "execution_count": null,
   "metadata": {
    "id": "VvqcKKsURcli",
    "outputId": "15cc550b-a410-45da-a01f-989e525f10d3"
   },
   "outputs": [
    {
     "data": {
      "text/plain": [
       "(60, 50, 40, 30, 20, 10)"
      ]
     },
     "execution_count": 1,
     "metadata": {},
     "output_type": "execute_result"
    }
   ],
   "source": [
    "aTuple = (10, 20, 30, 40, 50,60)\n",
    "# aTuple[::-1]\n",
    "tuple(reversed(aTuple))"
   ]
  },
  {
   "cell_type": "markdown",
   "metadata": {
    "id": "l0yLaTiARcli"
   },
   "source": [
    "2. display value 20 from the following tuple\n",
    "aTuple = (\"Orange\", [10, 20, 30], (5, 15, 25))\n"
   ]
  },
  {
   "cell_type": "code",
   "execution_count": null,
   "metadata": {
    "id": "WNPBIuJbRclj",
    "outputId": "63f155c0-d89f-4a75-912f-769dd664941c"
   },
   "outputs": [
    {
     "name": "stdout",
     "output_type": "stream",
     "text": [
      "20\n"
     ]
    }
   ],
   "source": [
    "aTuple = (\"Orange\", [10, 20, 30], (5, 15, 25))\n",
    "print(aTuple[1][1])"
   ]
  },
  {
   "cell_type": "markdown",
   "metadata": {
    "id": "yek3Ik9ZRclk"
   },
   "source": [
    "3. Unpack the following tuple into 4 variables\n",
    "aTuple = (10, 20, 30, 40)\n"
   ]
  },
  {
   "cell_type": "code",
   "execution_count": null,
   "metadata": {
    "id": "jRepROGtRclm",
    "outputId": "aafb7337-c392-47e4-b4dc-021e3c5f789d"
   },
   "outputs": [
    {
     "name": "stdout",
     "output_type": "stream",
     "text": [
      "10 20 30 40\n"
     ]
    }
   ],
   "source": [
    "aTuple = (10, 20, 30, 40)\n",
    "a,b,c,d = aTuple\n",
    "print(a,b,c,d)"
   ]
  },
  {
   "cell_type": "markdown",
   "metadata": {
    "id": "wL7NvzIvRclm"
   },
   "source": [
    "4. Swap the following two tuples\n",
    "tuple1 = (11, 22)\n",
    "tuple2 = (99, 88)\n",
    "Expected output:\n",
    "tuple1 = (99, 88)\n",
    "tuple2 = (11, 22)\n"
   ]
  },
  {
   "cell_type": "code",
   "execution_count": null,
   "metadata": {
    "id": "hkw54LEyRclm",
    "outputId": "77bea96b-ea49-4d83-f216-052e29b52d9d"
   },
   "outputs": [
    {
     "name": "stdout",
     "output_type": "stream",
     "text": [
      "(99, 88) (11, 22)\n"
     ]
    }
   ],
   "source": [
    "tuple1 = (11, 22)\n",
    "tuple2 = (99, 88)\n",
    "tuple1, tuple2 = tuple2, tuple1\n",
    "print(tuple1,tuple2)"
   ]
  },
  {
   "cell_type": "code",
   "execution_count": null,
   "metadata": {
    "id": "JrAr5zscRcln",
    "outputId": "45f372d6-91f5-4cf5-bfa5-04b11644b0ca"
   },
   "outputs": [
    {
     "name": "stdout",
     "output_type": "stream",
     "text": [
      "2 1\n"
     ]
    }
   ],
   "source": [
    "# swap two values\n",
    "x,y = 1,2\n",
    "x,y = y,x\n",
    "print(x,y)"
   ]
  },
  {
   "cell_type": "markdown",
   "metadata": {
    "id": "-CWfzMv0Rclo"
   },
   "source": [
    "5. Copy element 44 and 55 from the following tuple into a new tuple\n",
    "tuple1 = (11, 22, 33, 44, 55, 66)\n",
    "Expected output:\n",
    "tuple2: (44, 55)\n"
   ]
  },
  {
   "cell_type": "code",
   "execution_count": null,
   "metadata": {
    "id": "ms4dK8BGRclo",
    "outputId": "67ef2bfb-f6da-44fc-f53e-6d8d3d1efca3"
   },
   "outputs": [
    {
     "name": "stdout",
     "output_type": "stream",
     "text": [
      "(44, 55)\n"
     ]
    }
   ],
   "source": [
    "tuple1 = (11, 22, 33, 44, 55, 66)\n",
    "tuple2 = tuple1[3:5]\n",
    "print(tuple2)"
   ]
  },
  {
   "cell_type": "markdown",
   "metadata": {
    "id": "JfdQcubkRclo"
   },
   "source": [
    "6. Modify the first item (22) of a list inside a following tuple to 200\n",
    "tuple1 = (11, [22, 33], 44, 55)\n",
    "Expected output:\n",
    "tuple1: (11, [200, 33], 44, 55)\n"
   ]
  },
  {
   "cell_type": "code",
   "execution_count": null,
   "metadata": {
    "id": "e-TZiUPzRclp",
    "outputId": "bbff590c-04d5-409d-d950-3978dcfc1a82"
   },
   "outputs": [
    {
     "name": "stdout",
     "output_type": "stream",
     "text": [
      "(11, [200, 33], 44, 55)\n"
     ]
    }
   ],
   "source": [
    "tuple1 = (11, [22, 33], 44, 55)\n",
    "tuple1[1][0]=200\n",
    "print(tuple1)"
   ]
  },
  {
   "cell_type": "markdown",
   "metadata": {
    "id": "RS8ENzb2Rclq"
   },
   "source": [
    "7. Take two integer values in a & b. Swap their values using tuple, using temparary variable and without tuple and without temparary variable.\n",
    "Ex. a=10 b=23\n",
    "After swapping a=23 b=10\n"
   ]
  },
  {
   "cell_type": "code",
   "execution_count": null,
   "metadata": {
    "id": "Y3xwXv4PRclq",
    "outputId": "7cf29a1e-8503-43bb-e6ff-b8bdf580f37d"
   },
   "outputs": [
    {
     "name": "stdout",
     "output_type": "stream",
     "text": [
      "23 10\n"
     ]
    }
   ],
   "source": [
    "a=10\n",
    "b=23\n",
    "a,b = b,a\n",
    "print(a,b)"
   ]
  },
  {
   "cell_type": "code",
   "execution_count": null,
   "metadata": {
    "id": "mgzlkuLaRclq",
    "outputId": "895426e6-7f6c-4216-9f46-3cfdffb9266c"
   },
   "outputs": [
    {
     "name": "stdout",
     "output_type": "stream",
     "text": [
      "2 5\n"
     ]
    }
   ],
   "source": [
    "# without temp variable\n",
    "a=5\n",
    "b=2\n",
    "a = a+b\n",
    "b = a-b\n",
    "a = a-b\n",
    "print(a,b)"
   ]
  },
  {
   "cell_type": "code",
   "execution_count": null,
   "metadata": {
    "id": "y8q9Rs9_Rclr",
    "outputId": "9f1d4d8f-8341-4a51-97c5-41283335f302"
   },
   "outputs": [
    {
     "name": "stdout",
     "output_type": "stream",
     "text": [
      "2 5\n"
     ]
    }
   ],
   "source": [
    "# with temp variable\n",
    "a=5\n",
    "b=2\n",
    "temp = a\n",
    "a = b\n",
    "b = temp\n",
    "\n",
    "\n",
    "print(a,b)"
   ]
  },
  {
   "cell_type": "markdown",
   "metadata": {
    "id": "0JC0JLO-Rclr"
   },
   "source": [
    "# Dictionary Assignments\n"
   ]
  },
  {
   "cell_type": "markdown",
   "metadata": {
    "id": "O3NMCqcaRclr"
   },
   "source": [
    "1. In cryptography, a Caesar cipher is a very simple encryption techniques in which each letter in the plain text is replaced by a letter some fixed number of positions down the alphabet. For example, with a shift of 3, A would be replaced by D, B would become E, and so on. The method is named after Julius Caesar, who used it to communicate with his generals. ROT-13 (\"rotate by 13 places\") is a widely used\n",
    "example of a Caesar cipher where the shift is 13. In Python, the key for ROT-13 may be represented by means of the following dictionary\n",
    "{'a':'n', 'b':'o', 'c':'p', 'd':'q', 'e':'r', 'f':'s', 'g':'t', 'h':'u', 'i':'v', 'j':'w', 'k':'x', 'l':'y', 'm':'z', 'n':'a', 'o':'b', 'p':'c',\n",
    "'q':'d', 'r':'e', 's':'f', 't':'g', 'u':'h', 'v':'i', 'w':'j', 'x':'k', 'y':'l', 'z':'m', 'A':'N', 'B':'O', 'C':'P', 'D':'Q', 'E':'R', 'F':'S', 'G':'T', 'H':'U', 'I':'V', 'J':'W', 'K':'X', 'L':'Y', 'M':'Z', 'N':'A', 'O':'B', 'P':'C', 'Q':'D', 'R':'E', 'S':'F', 'T':'G', 'U':'H', 'V':'I', 'W':'J', 'X':'K', 'Y':'L', 'Z':'M'}\n"
   ]
  },
  {
   "cell_type": "code",
   "execution_count": 1,
   "metadata": {
    "colab": {
     "base_uri": "https://localhost:8080/"
    },
    "executionInfo": {
     "elapsed": 12,
     "status": "ok",
     "timestamp": 1697003271784,
     "user": {
      "displayName": "Ganesh",
      "userId": "06686886219714783482"
     },
     "user_tz": -330
    },
    "id": "fP0MfvjkRclr",
    "outputId": "7eb9ab4e-21c5-4fa4-86aa-e4733b593682"
   },
   "outputs": [
    {
     "name": "stdout",
     "output_type": "stream",
     "text": [
      "Caesar cipherr I much prefer Caesar saladd\n"
     ]
    }
   ],
   "source": [
    "dic={'a':'n', 'b':'o', 'c':'p', 'd':'q', 'e':'r', 'f':'s', 'g':'t', 'h':'u', 'i':'v', 'j':'w', 'k':'x', 'l':'y', 'm':'z', 'n':'a', 'o':'b', 'p':'c',\n",
    "'q':'d', 'r':'e', 's':'f', 't':'g', 'u':'h', 'v':'i', 'w':'j', 'x':'k', 'y':'l', 'z':'m', 'A':'N', 'B':'O', 'C':'P', 'D':'Q', 'E':'R', 'F':'S', 'G':'T', 'H':'U', 'I':'V', 'J':'W', 'K':'X', 'L':'Y', 'M':'Z', 'N':'A', 'O':'B', 'P':'C', 'Q':'D', 'R':'E', 'S':'F', 'T':'G', 'U':'H', 'V':'I', 'W':'J', 'X':'K', 'Y':'L', 'Z':'M'}\n",
    "cod=\"Pnrfne pvcure? V zhpu cersre Pnrfne fnynq!\"\n",
    "encode=\"\"\n",
    "for ele in cod:\n",
    "    if ele==(\" \"):\n",
    "        a=\" \"\n",
    "    elif ele.isalpha():\n",
    "        a=dic.get(ele)\n",
    "    encode=encode+a\n",
    "\n",
    "print(\"\".join(encode))"
   ]
  },
  {
   "cell_type": "markdown",
   "metadata": {
    "id": "abSd2nqtRcls"
   },
   "source": [
    "2. Given a dictionary of students and their favourite colours:\n",
    "people={'Arham':'Blue','Lisa':'Yellow',''Vinod:'Purple','Jenny':'Pink'}\n",
    "a. Find out how many students are in the list\n",
    "b. Change Lisa’s favourite colour\n",
    "c. Remove 'Jenny' and her favourite colour\n"
   ]
  },
  {
   "cell_type": "code",
   "execution_count": null,
   "metadata": {
    "id": "KAEBPjgLRcls",
    "outputId": "0e64fea9-b1cd-43a5-b349-c9aab6a67e06"
   },
   "outputs": [
    {
     "name": "stdout",
     "output_type": "stream",
     "text": [
      "4\n",
      "{'Arham': 'Blue', 'Lisa': 'white', 'Vinod': 'Purple', 'Jenny': 'Pink'}\n",
      "{'Arham': 'Blue', 'Lisa': 'white', 'Vinod': 'Purple'}\n"
     ]
    }
   ],
   "source": [
    "people = {'Arham':'Blue','Lisa':'Yellow','Vinod':'Purple','Jenny':'Pink'}\n",
    "\n",
    "#a]\n",
    "print(len(people))\n",
    "\n",
    "#b]\n",
    "people['Lisa']='white'\n",
    "print(people)\n",
    "\n",
    "#c]\n",
    "del people['Jenny']\n",
    "print(people)"
   ]
  },
  {
   "cell_type": "markdown",
   "metadata": {
    "id": "IzSZUtWFR3RY"
   },
   "source": [
    "2. Given a dictionary of students and their favourite colours: people={'Arham':'Blue','Lisa':'Yellow',''Vinod:'Purple','Jenny':'Pink'} a. Find out how many students are in the list b. Change Lisa’s favourite colour c. Remove 'Jenny' and her favourite colour"
   ]
  },
  {
   "cell_type": "code",
   "execution_count": 2,
   "metadata": {
    "colab": {
     "base_uri": "https://localhost:8080/"
    },
    "executionInfo": {
     "elapsed": 704,
     "status": "ok",
     "timestamp": 1697003348814,
     "user": {
      "displayName": "Ganesh",
      "userId": "06686886219714783482"
     },
     "user_tz": -330
    },
    "id": "DFV0eXsMR-8c",
    "outputId": "a8dfb781-6226-46e2-892b-830dcd581c5b"
   },
   "outputs": [
    {
     "name": "stdout",
     "output_type": "stream",
     "text": [
      "There are 4 People in dictionary\n",
      "{'Arham': 'Blue', 'Lisa': 'Black', 'Vinod': 'Purple'}\n"
     ]
    }
   ],
   "source": [
    "people={'Arham':'Blue','Lisa':'Yellow','Vinod':'Purple','Jenny':'Pink'}\n",
    "\n",
    "print(\"There are\",len(people),\"People in dictionary\")\n",
    "# people=people('Lisa','Black')\n",
    "people['Lisa']='Black'\n",
    "people.pop(\"Jenny\")\n",
    "print(people)\n"
   ]
  },
  {
   "cell_type": "markdown",
   "metadata": {
    "id": "j77eykveRclt"
   },
   "source": [
    "4. Sort and print students and their favourite colours alphabetically by name\n"
   ]
  },
  {
   "cell_type": "code",
   "execution_count": 14,
   "metadata": {
    "id": "J9uTaqpiRclt",
    "outputId": "abfea8aa-f548-4ccf-d42e-4f1b152f8986"
   },
   "outputs": [
    {
     "name": "stdout",
     "output_type": "stream",
     "text": [
      "{'Arham': 'Blue', 'Jenny': 'Pink', 'Lisa': 'Yellow', 'Vinod': 'Purple'}\n"
     ]
    }
   ],
   "source": [
    "students={'Arham':'Blue','Lisa':'Yellow','Vinod':'Purple','Jenny':'Pink'}\n",
    "lis = list(students.keys())\n",
    "lis.sort()\n",
    "Sort_dic = {i:students[i] for i in lis}\n",
    "print(Sort_dic)"
   ]
  },
  {
   "cell_type": "markdown",
   "metadata": {
    "id": "zqNvgoUWRclt"
   },
   "source": [
    "3. Write a menu driven program to practice Dictionary functions.\n",
    "\n",
    "Write a program to accept name of a person and their vehicle and store it in a dictionary.\n",
    "Ask user if they want to continue to accept multiple values.\n",
    "Display following menu:\n",
    "a. Add new person name and a vehicle name.\n",
    "b. Delete a person name and vehicle name from the dictionary.\n",
    "----Accept person name from user.\n",
    "----Check whether person name exists in the dictionary.\n",
    "----If exists show person name and vehicle name to the user.\n",
    "----Confirm for deletion, if user enters y\n",
    "then delete otherwise no. Display appropriate message.\n",
    "c. Modify vehicle name for the person\n",
    "----Accept a person name from user.\n",
    "----Check whether the person’s name exists.\n",
    "----If the name exists, show the person’s name and vehicle name to user.\n",
    "Ask for new value and then overwrite the old value.\n",
    "d. Search vehicle for the given person’s name.\n",
    "e. Search list of people, who have given a vehicle\n",
    "f. Display all person names.\n",
    "g. Display all vehicle names.\n",
    "h. Exit\n"
   ]
  },
  {
   "cell_type": "code",
   "execution_count": null,
   "metadata": {},
   "outputs": [
    {
     "name": "stdout",
     "output_type": "stream",
     "text": [
      "Welcome to menu!\n",
      "Press 1 to Add record \n",
      "Press 2 to Delete record \n",
      "Press 3 to Modify record \n",
      "Press 4 to Search Vehicle \n",
      "Press 5 to Search People \n",
      "Press 6 to Display all names \n",
      "Press 7 to Display all vehicles.\n"
     ]
    }
   ],
   "source": [
    "veh_dict={}\n",
    "print(\"Welcome to menu!\")\n",
    "print(\"Press 1 to Add record \\nPress 2 to Delete record \\nPress 3 to Modify record \\nPress 4 to Search Vehicle \\nPress 5 to Search People \\nPress 6 to Display all names \\nPress 7 to Display all vehicles.\")\n",
    "\n",
    "choice= input('Enter your choice : ')\n",
    "\n",
    "match choice:\n",
    "    case '1':\n",
    "        name = input(\"Enter Name : \") \n",
    "        veh = input(\" Enter Vehicles : \")\n",
    "        veh_dict.update({name:veh})\n"
   ]
  },
  {
   "cell_type": "code",
   "execution_count": null,
   "metadata": {},
   "outputs": [],
   "source": []
  },
  {
   "cell_type": "code",
   "execution_count": null,
   "metadata": {},
   "outputs": [],
   "source": []
  },
  {
   "cell_type": "code",
   "execution_count": null,
   "metadata": {},
   "outputs": [],
   "source": []
  },
  {
   "cell_type": "code",
   "execution_count": null,
   "metadata": {},
   "outputs": [],
   "source": []
  },
  {
   "cell_type": "code",
   "execution_count": null,
   "metadata": {},
   "outputs": [],
   "source": []
  }
 ],
 "metadata": {
  "colab": {
   "provenance": []
  },
  "kernelspec": {
   "display_name": "Python 3 (ipykernel)",
   "language": "python",
   "name": "python3"
  },
  "language_info": {
   "codemirror_mode": {
    "name": "ipython",
    "version": 3
   },
   "file_extension": ".py",
   "mimetype": "text/x-python",
   "name": "python",
   "nbconvert_exporter": "python",
   "pygments_lexer": "ipython3",
   "version": "3.11.4"
  }
 },
 "nbformat": 4,
 "nbformat_minor": 1
}
