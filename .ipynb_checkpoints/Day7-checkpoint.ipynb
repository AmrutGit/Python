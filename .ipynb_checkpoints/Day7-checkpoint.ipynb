{
 "cells": [
  {
   "cell_type": "markdown",
   "id": "f49011cb",
   "metadata": {},
   "source": [
    "# Day 7"
   ]
  },
  {
   "cell_type": "markdown",
   "id": "bc862112",
   "metadata": {},
   "source": [
    "1. Given a string of odd length greater than 7, return a new string made of the middle three characters\n",
    "of a given String\n",
    "Given:\n",
    "str1 = \"RakeshzipPetabb\"\n",
    "Output\n",
    "zip\n",
    "str2 = \"JazzbonAyxx\"\n",
    "Output\n",
    "bon\n"
   ]
  },
  {
   "cell_type": "code",
   "execution_count": 4,
   "id": "a3a5b89b",
   "metadata": {},
   "outputs": [
    {
     "name": "stdout",
     "output_type": "stream",
     "text": [
      "Enter a name: JazzbonAyxx\n"
     ]
    },
    {
     "data": {
      "text/plain": [
       "'bon'"
      ]
     },
     "execution_count": 4,
     "metadata": {},
     "output_type": "execute_result"
    }
   ],
   "source": [
    "str1 = input(\"Enter a name: \")\n",
    "a=len(str1)-3\n",
    "b=a//2\n",
    "str1[b:b+3]"
   ]
  },
  {
   "cell_type": "markdown",
   "id": "ac9973bb",
   "metadata": {},
   "source": [
    "2. Given two strings, s1 and s2, create a new string by appending s2 in the middle of s1\n",
    "Given:\n",
    "s1 = \"Ault\"\n",
    "s2 = \"Kelly\"\n",
    "Expected Output:\n",
    "AuKellylt\n",
    "\n"
   ]
  },
  {
   "cell_type": "code",
   "execution_count": 10,
   "id": "74126a77",
   "metadata": {},
   "outputs": [
    {
     "name": "stdout",
     "output_type": "stream",
     "text": [
      "Enter 2 strings : appending middle\n"
     ]
    },
    {
     "data": {
      "text/plain": [
       "'appemiddlending'"
      ]
     },
     "execution_count": 10,
     "metadata": {},
     "output_type": "execute_result"
    }
   ],
   "source": [
    "s1, s2 = input(\"Enter 2 strings : \").split()\n",
    "s3 = s1[:len(s1)//2]+s2+s1[len(s1)//2:]\n",
    "s3"
   ]
  },
  {
   "cell_type": "markdown",
   "id": "f2bbf352",
   "metadata": {},
   "source": [
    "3. two strings, s1, and s2 return a new string made of the first, middle, and last characters each input\n",
    "string\n",
    "Given:\n",
    "s1 = \"America\"\n",
    "s2 = \"Japan\"\n",
    "Expected Output:\n",
    "AJrpan"
   ]
  },
  {
   "cell_type": "code",
   "execution_count": 13,
   "id": "257573a6",
   "metadata": {},
   "outputs": [
    {
     "data": {
      "text/plain": [
       "'AJrpan'"
      ]
     },
     "execution_count": 13,
     "metadata": {},
     "output_type": "execute_result"
    }
   ],
   "source": [
    "s1 = \"America\"\n",
    "s2 = \"Japan\"\n",
    "mid1= len(s1)//2 \n",
    "mid2= len(s2)//2 \n",
    "s3 = s1[0] + s2[0] + s1[mid1] + s2[mid2] + s1[-1] + s2[-1]\n",
    "s3"
   ]
  },
  {
   "cell_type": "markdown",
   "id": "ef0c36ee",
   "metadata": {},
   "source": [
    "4. Given an input string with the combination of the lower and upper case arrange characters in such a\n",
    "way that all lowercase letters should come first."
   ]
  },
  {
   "cell_type": "code",
   "execution_count": 12,
   "id": "66eb004a",
   "metadata": {},
   "outputs": [
    {
     "name": "stdout",
     "output_type": "stream",
     "text": [
      "Enter a string : AsDfGh\n",
      "sfhADG\n"
     ]
    }
   ],
   "source": [
    "s=input(\"Enter a string : \")\n",
    "new=[ele for ele in s if ele.islower()]\n",
    "new=new + [elem for elem in s if elem.isupper()]\n",
    "new= \"\".join(new)\n",
    "print(new)\n"
   ]
  },
  {
   "cell_type": "code",
   "execution_count": null,
   "id": "97671c07",
   "metadata": {},
   "outputs": [],
   "source": []
  }
 ],
 "metadata": {
  "kernelspec": {
   "display_name": "Python 3 (ipykernel)",
   "language": "python",
   "name": "python3"
  },
  "language_info": {
   "codemirror_mode": {
    "name": "ipython",
    "version": 3
   },
   "file_extension": ".py",
   "mimetype": "text/x-python",
   "name": "python",
   "nbconvert_exporter": "python",
   "pygments_lexer": "ipython3",
   "version": "3.11.4"
  }
 },
 "nbformat": 4,
 "nbformat_minor": 5
}
