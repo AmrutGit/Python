{
 "cells": [
  {
   "cell_type": "markdown",
   "id": "fe4f23e5",
   "metadata": {},
   "source": [
    "# Lambda Function And Map "
   ]
  },
  {
   "cell_type": "markdown",
   "id": "2d035aba",
   "metadata": {},
   "source": [
    "Q Sort all the numbers in a list in descending order using lambda function"
   ]
  },
  {
   "cell_type": "code",
   "execution_count": 2,
   "id": "d61c28f5",
   "metadata": {},
   "outputs": [
    {
     "name": "stdout",
     "output_type": "stream",
     "text": [
      "[9, 8, 6, 5, 4, 3, 3, 2, 1]\n"
     ]
    }
   ],
   "source": [
    "l=[3,4,2,5,6,8,9,3,1]\n",
    "sorted_l = sorted(l, key = lambda x:-x)\n",
    "print(sorted_l)"
   ]
  },
  {
   "cell_type": "code",
   "execution_count": 5,
   "id": "81889651",
   "metadata": {},
   "outputs": [
    {
     "name": "stdout",
     "output_type": "stream",
     "text": [
      "[9, 8, 6, 5, 4, 3, 3, 2, 1]\n"
     ]
    }
   ],
   "source": [
    "# Without Lambda\n",
    "l=[3,4,2,5,6,8,9,3,1]\n",
    "sorted_l = sorted(l, reverse = True)\n",
    "print(sorted_l)"
   ]
  },
  {
   "cell_type": "markdown",
   "id": "7ad6de69",
   "metadata": {},
   "source": [
    "Q Sort all the characters of given string using lambda function"
   ]
  },
  {
   "cell_type": "code",
   "execution_count": 8,
   "id": "71539a1a",
   "metadata": {},
   "outputs": [
    {
     "name": "stdout",
     "output_type": "stream",
     "text": [
      "['a', 'c', 'i', 'i', 'n', 'n', 'n', 'o', 'o', 'o', 'p', 'r', 't', 'u']\n"
     ]
    }
   ],
   "source": [
    "s = \"pronounciation\"\n",
    "sorted_s = sorted(s, key = lambda x: x)\n",
    "print(sorted_s)"
   ]
  },
  {
   "cell_type": "code",
   "execution_count": 9,
   "id": "f69155cb",
   "metadata": {},
   "outputs": [
    {
     "name": "stdout",
     "output_type": "stream",
     "text": [
      "['a', 'c', 'i', 'i', 'n', 'n', 'n', 'o', 'o', 'o', 'p', 'r', 't', 'u']\n"
     ]
    }
   ],
   "source": [
    "# Without lambda\n",
    "s = \"pronounciation\"\n",
    "sorted_s = sorted(s)\n",
    "print(sorted_s)"
   ]
  },
  {
   "cell_type": "markdown",
   "id": "03161435",
   "metadata": {},
   "source": [
    "Q Given list of strings, sort all the strings by last character of that string. . Use lambda function and normal function both."
   ]
  },
  {
   "cell_type": "code",
   "execution_count": 12,
   "id": "387f390c",
   "metadata": {},
   "outputs": [
    {
     "name": "stdout",
     "output_type": "stream",
     "text": [
      "['contained', 'have', 'everything', 'with', 'i', 'i', 'am', 'that']\n"
     ]
    }
   ],
   "source": [
    "ls = ['i', 'am', 'contained', 'with', 'everything', 'that', 'i', 'have']\n",
    "lsorted = sorted(ls, key = lambda x: x[-1])\n",
    "print(lsorted)"
   ]
  },
  {
   "cell_type": "code",
   "execution_count": 16,
   "id": "e8dec650",
   "metadata": {},
   "outputs": [
    {
     "name": "stdout",
     "output_type": "stream",
     "text": [
      "['contained', 'have', 'everything', 'with', 'i', 'i', 'am', 'that']\n"
     ]
    }
   ],
   "source": [
    "# With Normal Function\n",
    "def return_last(s):\n",
    "    return s[-1]\n",
    "\n",
    "ls = ['i', 'am', 'contained', 'with', 'everything', 'that', 'i', 'have']\n",
    "lsorted = sorted(ls, key = return_last)\n",
    "print(lsorted)"
   ]
  },
  {
   "cell_type": "markdown",
   "id": "25c7822c",
   "metadata": {},
   "source": [
    "Q Given list of employees. This list may contain repetitions. Find all unique employee names and print them as per order of second character in that name. Use lambda function and normal function both."
   ]
  },
  {
   "cell_type": "code",
   "execution_count": 19,
   "id": "a06e96e0",
   "metadata": {},
   "outputs": [
    {
     "name": "stdout",
     "output_type": "stream",
     "text": [
      "['Hanuman', 'Ram', 'Lakshman', 'Ravan', 'Sita', 'Vibhishan']\n"
     ]
    }
   ],
   "source": [
    "l_emp = ['Ram', 'Lakshman','Hanuman', 'Ravan', 'Vibhishan', 'Ram', 'Sita', 'Hanuman']\n",
    "set_emp = set(l_emp)\n",
    "l_emp1 = list(set_emp)\n",
    "l_sorted = sorted(l_emp1, key = lambda x: x[1])\n",
    "print(l_sorted)\n"
   ]
  },
  {
   "cell_type": "markdown",
   "id": "c1a64988",
   "metadata": {},
   "source": [
    "Q. Take Employee id and Employee name of 5 employees from user. Store it in dictionary. Print all employees in increasing order of employee Id . Also print all employees in alphabetical order by name."
   ]
  },
  {
   "cell_type": "code",
   "execution_count": 34,
   "id": "7a5f2915",
   "metadata": {},
   "outputs": [
    {
     "name": "stdout",
     "output_type": "stream",
     "text": [
      "[(1, 'Yudhishthir'), (2, 'Bheem'), (3, 'Arjun'), (4, 'Nakul'), (5, 'Sahdev')]\n",
      "[(3, 'Arjun'), (2, 'Bheem'), (4, 'Nakul'), (5, 'Sahdev'), (1, 'Yudhishthir')]\n"
     ]
    }
   ],
   "source": [
    "emp_data = { 5:'Sahdev', 2: 'Bheem', 1:'Yudhishthir', 4:'Nakul' , 3:'Arjun'}\n",
    "sorted_id_emp = sorted(emp_data.items())\n",
    "sorted_name_emp = sorted(emp_data.items(), key = lambda x : x[1]) \n",
    "print(sorted_id_emp)\n",
    "print(sorted_name_emp)"
   ]
  },
  {
   "cell_type": "markdown",
   "id": "0a78de05",
   "metadata": {},
   "source": [
    "Q. Take comma separated numbers as input from the user. Split it in list of strings. Now convert every string in this list to float using map function"
   ]
  },
  {
   "cell_type": "code",
   "execution_count": 40,
   "id": "61bed9f2",
   "metadata": {},
   "outputs": [
    {
     "name": "stdout",
     "output_type": "stream",
     "text": [
      "Enter float numbers and seperate them by comma (,) : 12,12.3,12.4,56\n",
      "[12.0, 12.3, 12.4, 56.0]\n"
     ]
    }
   ],
   "source": [
    "str_list = input(\"Enter float numbers and seperate them by comma (,) : \").split(',')\n",
    "flt_list = list(map(lambda x: float(x)  ,str_list))\n",
    "print(flt_list)"
   ]
  },
  {
   "cell_type": "markdown",
   "id": "47f975f3",
   "metadata": {},
   "source": [
    "Q Given list of floating point numbers. Convert every number into string and then join all the numbers such that they are separated by pipe(|)"
   ]
  },
  {
   "cell_type": "code",
   "execution_count": 50,
   "id": "166efd46",
   "metadata": {},
   "outputs": [
    {
     "name": "stdout",
     "output_type": "stream",
     "text": [
      "Enter list of float : 12.3,45.6,77.7,88.6,45.9\n",
      "12.3|45.6|77.7|88.6|45.9\n"
     ]
    }
   ],
   "source": [
    "flt_list = input(\"Enter list of float : \").split()\n",
    "str_list = list(map(lambda x: str(x), flt_list))\n",
    "final_list = str_list[0].replace(',', '|')\n",
    "print(final_list)"
   ]
  },
  {
   "cell_type": "markdown",
   "id": "f789d2f0",
   "metadata": {},
   "source": [
    "Q Given list of integers. Use map function to calculate square of all and store in list. Then print sum of all square values."
   ]
  },
  {
   "cell_type": "code",
   "execution_count": 53,
   "id": "79c6117e",
   "metadata": {},
   "outputs": [
    {
     "name": "stdout",
     "output_type": "stream",
     "text": [
      "Enter list of numbers : 1 2 3 4 5 6 7 8 \n",
      "[1, 4, 9, 16, 25, 36, 49, 64]\n"
     ]
    }
   ],
   "source": [
    "ls = input(\"Enter list of numbers : \").split()\n",
    "int_list = list(map(lambda x: int(x), ls))\n",
    "sq_list = list(map(lambda x: x**2, int_list))\n",
    "print(sq_list)"
   ]
  }
 ],
 "metadata": {
  "kernelspec": {
   "display_name": "Python 3 (ipykernel)",
   "language": "python",
   "name": "python3"
  },
  "language_info": {
   "codemirror_mode": {
    "name": "ipython",
    "version": 3
   },
   "file_extension": ".py",
   "mimetype": "text/x-python",
   "name": "python",
   "nbconvert_exporter": "python",
   "pygments_lexer": "ipython3",
   "version": "3.11.4"
  }
 },
 "nbformat": 4,
 "nbformat_minor": 5
}
