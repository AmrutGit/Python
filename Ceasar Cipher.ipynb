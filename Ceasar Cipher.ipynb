{
 "cells": [
  {
   "cell_type": "markdown",
   "id": "fc5d6f55",
   "metadata": {},
   "source": [
    "# Ceasar Cipher"
   ]
  },
  {
   "cell_type": "code",
   "execution_count": 9,
   "id": "8be90700",
   "metadata": {},
   "outputs": [
    {
     "name": "stdout",
     "output_type": "stream",
     "text": [
      "Enter a coded message : Pnrfne pvcure? V zhpu cersre Pnrfne fnynq!\n",
      "Enter the number of shift / rotation : 13\n",
      "C a e s a r   c i p h e r ?   I   m u c h   p r e f e r   C a e s a r   s a l a d ! "
     ]
    }
   ],
   "source": [
    "def generate_key_dict(n):\n",
    "    \n",
    "    n = int(n)\n",
    "    #To get values for lowercase letters\n",
    "    key_dict = {chr(key): chr(key + n) for key in range(97,(123 - n))}\n",
    "    key_dict.update({chr(key): chr(key - 26 + n) for key in range((123 - n), 123)})\n",
    "    #To get values for uppercase letters \n",
    "    key_dict.update({chr(key): chr(key + n) for key in range(65, (91 - n))})\n",
    "    key_dict.update({chr(key): chr(key - 26 + n) for key in range((91 - n), 91)})\n",
    "    return key_dict\n",
    "\n",
    "#-------------------------------------------Main---------------------------------------------------#\n",
    "\n",
    "messege = input(\"Enter a coded message : \")\n",
    "# Test message - \"Pnrfne pvcure? V zhpu cersre Pnrfne fnynq!\"\n",
    "decode = \"\"\n",
    "n = int(input(\"Enter the number of shift / rotation : \"))\n",
    "\n",
    "key_cipher = generate_key_dict(n) #generate dictionary for decoding\n",
    "\n",
    "#Loop for decoding message\n",
    "for i in messege:\n",
    "    for j in i:\n",
    "        if j == \" \":\n",
    "            decode += \" \" \n",
    "        elif j.isalpha():\n",
    "            decode += key_cipher[j]\n",
    "        else:\n",
    "            decode += j\n",
    "    decode += \" \"\n",
    "\n",
    "print(decode)\n"
   ]
  }
 ],
 "metadata": {
  "kernelspec": {
   "display_name": "Python 3 (ipykernel)",
   "language": "python",
   "name": "python3"
  },
  "language_info": {
   "codemirror_mode": {
    "name": "ipython",
    "version": 3
   },
   "file_extension": ".py",
   "mimetype": "text/x-python",
   "name": "python",
   "nbconvert_exporter": "python",
   "pygments_lexer": "ipython3",
   "version": "3.11.4"
  }
 },
 "nbformat": 4,
 "nbformat_minor": 5
}
